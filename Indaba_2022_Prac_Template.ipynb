{
  "cells": [
    {
      "cell_type": "markdown",
      "metadata": {
        "id": "m2s4kN_QPQVe"
      },
      "source": [
        "# [Practical Heading]\n",
        "\n",
        "<img src=\"https://www.pulsecarshalton.co.uk/wp-content/uploads/2016/08/jk-placeholder-image.jpg\" width=\"60%\" />\n",
        "\n",
        "[Add prac relevant image.]\n",
        "\n",
        "<a href=\"https://colab.research.google.com/github/deep-learning-indaba/indaba-pracs-2022/blob/main/Indaba_2022_Prac_Template.ipynb\" target=\"_parent\"><img src=\"https://colab.research.google.com/assets/colab-badge.svg\" alt=\"Open In Colab\"/></a> [Change colab link to point to prac.]\n",
        "\n",
        "© Deep Learning Indaba 2022. Apache License 2.0.\n",
        "\n",
        "**Authors:**\n",
        "\n",
        "**Introduction:** \n",
        "\n",
        "[Intro to the topic. Probably between 3-5 lines.]\n",
        "\n",
        "**Topics:** \n",
        "\n",
        "Content: [e.g. Reinforcement Learning, Computer Vision etc. Can be more than one.]  \n",
        "Level: [Beginner, Intermediate, Advanced.] \n",
        "\n",
        "[Let's use the colours from notion here. E.g. <font color='grey'>`Beginner`</font> and <font color='blue'>`Generative Models`</font>.]\n",
        "\n",
        "\n",
        "**Aims/Learning Objectives:**\n",
        "\n",
        "[Points on the exact learning outcomes from the prac. This should probably be <=5 things.]\n",
        "\n",
        "**Prerequisites:**\n",
        "\n",
        "[Knowledge required for this prac. You can link a relevant parallel track session, blogs, papers, courses, topics etc.]\n",
        "\n",
        "**Outline:** \n",
        "\n",
        "[Points that link to each section.]\n",
        "\n",
        "**Before you start:**\n",
        "\n",
        "For this practical, you will need to use a GPU to speed up training. To do this, go to the \"Runtime\" menu in Colab, select \"Change runtime type\" and then in the popup menu, choose \"GPU\" in the \"Hardware accelerator\" box.\n",
        "\n",
        "[Any other tasks just before starting.]\n"
      ]
    },
    {
      "cell_type": "markdown",
      "metadata": {
        "id": "6EqhIg1odqg0"
      },
      "source": [
        "## Installation and Imports"
      ]
    },
    {
      "cell_type": "code",
      "execution_count": null,
      "metadata": {
        "id": "4boGA9rYdt9l"
      },
      "outputs": [],
      "source": [
        "## Install and import anything required. Capture hides the output from the cell. \n",
        "#@title Install and import required packages. (Run Cell)\n",
        "%%capture\n"
      ]
    },
    {
      "cell_type": "markdown",
      "metadata": {
        "id": "-ZUp8i37dFbU"
      },
      "source": [
        "## Sample Section 1 - <font color='blue'>`ALL`</font>\n",
        "\n",
        "[Background/content for the section.]"
      ]
    },
    {
      "cell_type": "markdown",
      "metadata": {
        "id": "4PbcFsfAibBu"
      },
      "source": [
        "Math foundations:\n"
      ]
    },
    {
      "cell_type": "markdown",
      "metadata": {
        "id": "axeZiGJxibBw"
      },
      "source": [
        "**Math Task:**\n",
        "\n",
        "[Optional math task or ask multiple choice question. E.g. the derivation of this would equal a, b or c. We could check this at the end of the prac.]\n"
      ]
    },
    {
      "cell_type": "code",
      "execution_count": null,
      "metadata": {
        "id": "vCURjj1HkQkW"
      },
      "outputs": [],
      "source": [
        "#@title Will the gradient for line A, be negative or positive?  Go to www.menti.com and use the code 8371 2006.\n",
        "from IPython.display import HTML\n",
        "HTML(\n",
        "\"\"\"\n",
        "<img src=\"https://mammothmemory.net/images/user/base/Maths/Graphs/Formula%20For%20Straight%20Lines/positive-and-negative-gradient-lines-on-a-graph.8112cb9.jpg\" alt=\"Italian Trulli\"></img>\n",
        "\"\"\"\n",
        ")"
      ]
    },
    {
      "cell_type": "markdown",
      "metadata": {
        "id": "HvbKqrRniVDa"
      },
      "source": [
        "Code demonstration"
      ]
    },
    {
      "cell_type": "code",
      "execution_count": null,
      "metadata": {
        "id": "mNQ8Dgx2Wl8Q"
      },
      "outputs": [],
      "source": [
        "# Code demonstration"
      ]
    },
    {
      "cell_type": "markdown",
      "metadata": {
        "id": "jukLIz2oeiq9"
      },
      "source": [
        "**Code Task:**"
      ]
    },
    {
      "cell_type": "code",
      "execution_count": null,
      "metadata": {
        "id": "fFXVVGa6elwN"
      },
      "outputs": [],
      "source": [
        "# Code to be implemented during practical"
      ]
    },
    {
      "cell_type": "markdown",
      "metadata": {
        "id": "cOGuGWtLmP7n"
      },
      "source": [
        "## Sample Section 2 - <font color='green'>`Advanced`</font>\n",
        "\n",
        "[Background/content for the section.]"
      ]
    },
    {
      "cell_type": "markdown",
      "metadata": {
        "id": "uZXM-9lGmP7o"
      },
      "source": [
        "Math foundations:\n"
      ]
    },
    {
      "cell_type": "markdown",
      "metadata": {
        "id": "033sFvYkmP7o"
      },
      "source": [
        "**Math Task:**\n",
        "\n",
        "[Optional math task or ask multiple choice question. E.g. the derivation of this would equal a, b or c.]\n"
      ]
    },
    {
      "cell_type": "code",
      "execution_count": null,
      "metadata": {
        "id": "xb_ch9damP7p"
      },
      "outputs": [],
      "source": [
        "selection = 'a' #@param [\"a\", \"b\", \"c\"]\n",
        "print(f\"You selected: {selection}\")"
      ]
    },
    {
      "cell_type": "markdown",
      "metadata": {
        "id": "Inmy27LamP7r"
      },
      "source": [
        "Code demonstration"
      ]
    },
    {
      "cell_type": "code",
      "execution_count": null,
      "metadata": {
        "id": "asY4ZxxsmP7s"
      },
      "outputs": [],
      "source": [
        "# Code demonstration"
      ]
    },
    {
      "cell_type": "markdown",
      "metadata": {
        "id": "XeO174_rmP7s"
      },
      "source": [
        "**Code Task:**"
      ]
    },
    {
      "cell_type": "code",
      "execution_count": null,
      "metadata": {
        "id": "5wnqASD8mP7t"
      },
      "outputs": [],
      "source": [
        "# Code to be implemented during practical"
      ]
    },
    {
      "cell_type": "markdown",
      "metadata": {
        "id": "aB0503xgmSFh"
      },
      "source": [
        "## Sample Section 3 - <font color='purple'>`Optional`</font>\n",
        "\n",
        "[Background/content for the section.]"
      ]
    },
    {
      "cell_type": "markdown",
      "metadata": {
        "id": "NaHwVfAzmSFi"
      },
      "source": [
        "Math foundations:\n"
      ]
    },
    {
      "cell_type": "markdown",
      "metadata": {
        "id": "D5EyZhdomSFj"
      },
      "source": [
        "**Math Task:**\n",
        "\n",
        "[Optional math task or ask multiple choice question. E.g. the derivation of this would equal a, b or c.]\n"
      ]
    },
    {
      "cell_type": "code",
      "execution_count": null,
      "metadata": {
        "id": "NOixl8TpmSFk"
      },
      "outputs": [],
      "source": [
        "selection = 'a' #@param [\"a\", \"b\", \"c\"]\n",
        "print(f\"You selected: {selection}\")"
      ]
    },
    {
      "cell_type": "markdown",
      "metadata": {
        "id": "hzkZ7hfmmSFl"
      },
      "source": [
        "Code demonstration"
      ]
    },
    {
      "cell_type": "code",
      "execution_count": null,
      "metadata": {
        "id": "_grJb0p5mSFl"
      },
      "outputs": [],
      "source": [
        "# Code demonstration"
      ]
    },
    {
      "cell_type": "markdown",
      "metadata": {
        "id": "Bxt-JSDymSFm"
      },
      "source": [
        "**Code Task:**"
      ]
    },
    {
      "cell_type": "code",
      "execution_count": null,
      "metadata": {
        "id": "NloS7le2mSFn"
      },
      "outputs": [],
      "source": [
        "# Code to be implemented during practical"
      ]
    },
    {
      "cell_type": "markdown",
      "metadata": {
        "id": "fV3YG7QOZD-B"
      },
      "source": [
        "## Conclusion\n",
        "**Summary:**\n",
        "\n",
        "[Summary of the main points/takeaways from the prac.]\n",
        "\n",
        "**Next Steps:** \n",
        "\n",
        "[Next steps for people who have completed the prac, like optional reading (e.g. blogs, papers, courses, youtube videos). This could also link to other pracs.]\n",
        "\n",
        "**Appendix:** \n",
        "\n",
        "[Anything (probably math heavy stuff) we don't have space for in the main practical sections.]\n",
        "\n",
        "**References:** \n",
        "\n",
        "[References for any content used in the notebook.]\n",
        "\n",
        "For other practicals from the Deep Learning Indaba, please visit [here](https://github.com/deep-learning-indaba/indaba-pracs-2022)."
      ]
    },
    {
      "cell_type": "markdown",
      "metadata": {
        "id": "o1ndpYE50BpG"
      },
      "source": [
        "## Feedback\n",
        "\n",
        "Please provide feedback that we can use to improve our practicals in the future."
      ]
    },
    {
      "cell_type": "code",
      "execution_count": null,
      "metadata": {
        "cellView": "form",
        "id": "OIZvkhfRz9Jz"
      },
      "outputs": [],
      "source": [
        "#@title Generate Feedback Form. (Run Cell)\n",
        "from IPython.display import HTML\n",
        "HTML(\n",
        "\"\"\"\n",
        "<iframe \n",
        "\tsrc=\"https://forms.gle/bvLLPX74LMGrFefo9\",\n",
        "  width=\"80%\" \n",
        "\theight=\"1200px\" >\n",
        "\tLoading...\n",
        "</iframe>\n",
        "\"\"\"\n",
        ")"
      ]
    },
    {
      "cell_type": "markdown",
      "metadata": {
        "id": "oglV4kHMWnIN"
      },
      "source": [
        "<img src=\"https://baobab.deeplearningindaba.com/static/media/indaba-logo-dark.d5a6196d.png\" width=\"50%\" />"
      ]
    }
  ],
  "metadata": {
    "colab": {
      "collapsed_sections": [
        "cOGuGWtLmP7n",
        "aB0503xgmSFh"
      ],
      "name": "Indaba_2022_Prac_Template.ipynb",
      "provenance": []
    },
    "kernelspec": {
      "display_name": "Python 3",
      "name": "python3"
    },
    "language_info": {
      "name": "python"
    }
  },
  "nbformat": 4,
  "nbformat_minor": 0
}
